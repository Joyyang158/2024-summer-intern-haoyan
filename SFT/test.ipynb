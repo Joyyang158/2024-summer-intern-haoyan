{
 "cells": [
  {
   "cell_type": "code",
   "execution_count": 11,
   "metadata": {},
   "outputs": [],
   "source": [
    "def split_data(input_data,  tokenizer, max_length = 2048):\n",
    "    # Function to decode and split data\n",
    "    def split_entry(entry, max_length):\n",
    "        tokens = tokenizer.encode(entry)\n",
    "        current_length = 0\n",
    "        current_part_tokens = []\n",
    "        new_entries = []\n",
    "\n",
    "        for token in tokens:\n",
    "            if current_length + 1 > max_length:\n",
    "                current_part_text = tokenizer.decode(current_part_tokens, skip_special_tokens=True)\n",
    "                new_entries.append(f'<system>\\n{current_part_text}')\n",
    "                current_part_tokens = [token]\n",
    "                current_length = 1\n",
    "            else:\n",
    "                current_part_tokens.append(token)\n",
    "                current_length += 1\n",
    "        \n",
    "        if current_part_tokens:\n",
    "            current_part_text = tokenizer.decode(current_part_tokens, skip_special_tokens=True)\n",
    "            new_entries.append(f'<system>\\n{current_part_text}')\n",
    "        \n",
    "        return new_entries\n",
    "\n",
    "    # Process each entry in the input data\n",
    "    processed_data = []\n",
    "    for entry in input_data:\n",
    "        tokens = tokenizer.encode(entry)\n",
    "        if len(tokens) > 2048:\n",
    "            processed_data.extend(split_entry(entry))\n",
    "        else:\n",
    "            processed_data.append(f'<system>\\n{entry}')\n",
    "    \n",
    "    return processed_data"
   ]
  },
  {
   "cell_type": "code",
   "execution_count": null,
   "metadata": {},
   "outputs": [],
   "source": []
  },
  {
   "cell_type": "code",
   "execution_count": 2,
   "metadata": {},
   "outputs": [
    {
     "name": "stderr",
     "output_type": "stream",
     "text": [
      "/home/user/miniconda3/envs/myenv/lib/python3.10/site-packages/tqdm/auto.py:21: TqdmWarning: IProgress not found. Please update jupyter and ipywidgets. See https://ipywidgets.readthedocs.io/en/stable/user_install.html\n",
      "  from .autonotebook import tqdm as notebook_tqdm\n"
     ]
    }
   ],
   "source": [
    "from datasets import DatasetDict, load_dataset\n",
    "import re\n",
    "import random\n",
    "from multiprocessing import cpu_count\n",
    "from transformers import AutoTokenizer\n",
    "import torch\n",
    "import config"
   ]
  },
  {
   "cell_type": "code",
   "execution_count": 5,
   "metadata": {},
   "outputs": [],
   "source": [
    "tokenizer = AutoTokenizer.from_pretrained(config.model_name)\n",
    "# set pad_token_id equal to the eos_token_id if not set\n",
    "if tokenizer.pad_token_id is None:\n",
    "  tokenizer.pad_token_id = tokenizer.eos_token_id"
   ]
  },
  {
   "cell_type": "code",
   "execution_count": 6,
   "metadata": {},
   "outputs": [],
   "source": [
    "test_text = \" <|system|>\\n</s>\\n<|user|>\\nWrite a compelling mystery story set in a vineyard, where a seasoned detective investigates a murder with twists and turns that will keep the reader engaged until the very end. Add complex characters, multiple suspects, and red herrings to create suspense and challenge the detective's deductive reasoning. Use vivid descriptive language to paint a picture of the vineyard setting, its wine-making process, and the people who live and work there. Make sure to reveal clues and motives gradually, and create a satisfying resolution that ties up all loose ends.</s>\\n<|assistant|>\\nDetective Jameson had been called to the vineyard on the outskirts of town to investigate a murder. The sun was setting, casting long shadows over the grape vines, and the air was heavy with the sweet scent of fermented grapes. The body was lying in the middle of the vineyard, surrounded by broken grape vines and a scattering of grapes. The victim's throat had been slashed, and there were bruises around the neck.\\n\\nAs Jameson began his investigation, he met the owner of the vineyard, a tall, thin man with a stern face. The owner didn't seem overly concerned about the murder on his property and was reluctant to answer any questions that Jameson had. He was also dismissive of the other workers, including the winemaker, who appeared visibly distraught.\\n\\nJameson soon discovered that the victim, a young woman named Sophia, had been working at the vineyard for the past year. Sophia was well-liked by the other workers, who had nothing but positive things to say about her. She was hardworking and always had a smile on her face. As Jameson dug deeper, he found that Sophia had possibly been having an affair with the owner, who was married. The owner denied any involvement, but Jameson was suspicious, especially when he found a note in Sophia's pocket that hinted at a secret relationship.\\n\\nFurther investigation uncovered more potential suspects—a worker who had been fired earlier that day, a jealous ex-boyfriend, and even a rival vineyard owner. With so many suspects, Jameson had to be careful, and he wasn't sure who he could trust. The winemaker, who had initially seemed distraught, also didn't seem to be telling Jameson everything he knew.\\n\\nAs Jameson pieced together the clues, he found that the murder had been premeditated. The killer had used the grape vines to hide their tracks, and the bruises on Sophia's neck indicated she had been strangled before her throat was slashed. Jameson knew he was getting closer to solving the case, and he sensed the killer was getting nervous.\\n\\nThe final twist came when the winemaker confessed to the murder. He had been in love with Sophia and had become jealous when he discovered she had been seeing the owner. He had planned the murder carefully, knowing that Sophia had been working alone that day. Jameson arrested the winemaker, relieved that he had solved the case and that justice would be served.\\n\\nAs the sun rose over the vineyard the next day, the workers returned to their routine of harvesting grapes, but Jameson knew that the tranquility of the vineyard had been shattered by a brutal murder.</s>\\n<|user|>\\nWow, that was a great mystery story! I really enjoyed the twists and turns, and the characters were interesting. Can you give me more detailed descriptions of the vineyard setting and the wine-making process? I want to be fully immersed in the story.</s>\\n<|assistant|>\\nOf course! As Detective Jameson arrived at the vineyard, he was struck by the natural beauty of the surroundings. The rolling hills were covered in rows upon rows of grapevines, their leaves rustling gently in the breeze. The vineyard was divided into different sections, each one dedicated to a specific type of grape. Jameson could see the giant barrels inside the winery, where the grapes would be crushed, fermented, and aged until they became a fine wine.\\n\\nThe grapes themselves were a sight to behold—some were deep burgundy, others were a bright green, and some were shades in between. As Jameson walked through the vineyard, he could smell the sweet aroma of grapes hanging heavily from the vines. He saw workers picking the grapes carefully, placing them in baskets and moving them to the winery for processing. The winery itself was a sprawling building with large metal tanks, wooden barrels, and machinery scattered throughout the space.\\n\\nJameson had always been fascinated by the art of winemaking. He knew it was a delicate process that required patience, knowledge, and skill. It was a precise balance of science and art—the grapes had to be harvested at the right time, crushed in the right way, and aged properly to produce the perfect wine. As he learned more about the wine-making process, Jameson became convinced that the careful attention to detail could uncover critical clues to solve the murder mystery.\\n\\nThroughout his investigation, Jameson noticed other aspects of the vineyard that added to its charm—the sprawling estate with its mustard yellow stucco walls, the vintage bicycles parked near the winery, the creaky wooden tasting room, and the buzzing of bees that drifted through the vineyards.\\n\\nAll these sights and smells contributed to the peaceful setting of the vineyard, making it even more shocking when Jameson stumbled upon a gruesome murder. The picturesque vineyard was now a crime scene, and Jameson knew that he had his work cut out for him to catch the killer.</s>\\n<|user|>\\nThat was an amazing description! It really transported me into the vineyard with Detective Jameson. Can you tell me more about the different types of grapes that were grown in the vineyard? I'm curious to know which ones were used to create the murder victim's wine.</s>\\n<|assistant|>\\nYes, the vineyard grew various types of grapes, each with its unique flavor profile and characteristics. The vineyard had vines of red grapes, such as Pinot Noir, Cabernet Franc, Cabernet Sauvignon, and Merlot. These grapes added depth, structure, and complexity to the wine, and were often blended to create different red wine blends.\\n\\nThe vineyard also had vines of white grapes, such as Chardonnay, Sauvignon Blanc, and Viognier. These grapes were used to produce white wine, which was light, refreshing, and crisp. Viognier, in particular, was known to be used to create a small batch, highly sought-after white wine from the vineyard.\\n\\nSophia, the victim, was known to have been a specialist in selecting the perfect blend of grapes for each bottle of wine. She had a unique talent for detecting the subtle flavors and nuances of each grape and was often tasked with creating the vineyard's signature wines.\\n\\nWhen Detective Jameson examined the grape vines around the scene of the crime, he noticed that some of the vines had been uprooted and damaged. He also saw that the grapes in the area were Merlot grapes, which were used to create the vineyard's award-winning red wine.\\n\\nAs Jameson dove deeper into the investigation, he uncovered a plot to sabotage the Merlot grapes. Someone had deliberately damaged the vines, destroying the grapes' flavor and texture, and ultimately ruining the wine. Sophia had been investigating the sabotage, and that could have led to her murder.\\n\\nDetective Jameson quickly realized that the Merlot grapes were a crucial clue in the murder investigation. He interviewed every worker present at the vineyard, looked through the vineyard's production logs, and analyzed samples of each grape variety to identify potential suspects. The hunt for the killer led Jameson on a roller-coaster ride of clues and red herrings, and ultimately to the arrest of the winemaker.</s>\\n\""
   ]
  },
  {
   "cell_type": "code",
   "execution_count": 18,
   "metadata": {},
   "outputs": [],
   "source": [
    "a = test_text.split('</s>\\n<|user|>\\n')[2]"
   ]
  },
  {
   "cell_type": "code",
   "execution_count": 21,
   "metadata": {},
   "outputs": [
    {
     "data": {
      "text/plain": [
       "566"
      ]
     },
     "execution_count": 21,
     "metadata": {},
     "output_type": "execute_result"
    }
   ],
   "source": [
    "len(tokenizer.encode(a))"
   ]
  },
  {
   "cell_type": "code",
   "execution_count": null,
   "metadata": {},
   "outputs": [],
   "source": [
    "for segment in test_text.split('</s>\\n<|user|>\\n')[1:]:\n",
    "    sequence = ''\n",
    "    while(tokenizer.encode(sequence) < 2048):\n",
    "        \n",
    "    sequence += segment\n",
    "    "
   ]
  },
  {
   "cell_type": "code",
   "execution_count": 27,
   "metadata": {},
   "outputs": [],
   "source": [
    "from datasets import load_from_disk\n",
    "\n",
    "train = load_from_disk(\"/gpfs-volume/SFT/train_data\")"
   ]
  },
  {
   "cell_type": "code",
   "execution_count": 30,
   "metadata": {},
   "outputs": [
    {
     "data": {
      "text/plain": [
       "\"<|system|>\\n</s>\\n<|user|>\\nHow does the location of the Sydney Conservatorium of Music impact the academic and professional opportunities available to music students, and how does the conservatorium support student engagement with the music industry in Australia?</s>\\n<|assistant|>\\nThe location of the Sydney Conservatorium of Music, which is situated in the heart of Sydney's cultural precinct, impacts both the academic and professional opportunities available to music students. The conservatorium is located near several major performing arts venues and organizations, including the Sydney Opera House, the Australian Broadcasting Corporation, and the Sydney Symphony Orchestra, providing students with easy access to performances, rehearsals, and networking opportunities.\\n\\nOne of the primary ways the conservatorium supports student engagement with the music industry in Australia is through its strong industry connections. The conservatorium has established partnerships with numerous professional music organizations, such as the Australian Chamber Orchestra, Opera Australia, and the Melbourne Symphony Orchestra. These partnerships provide students with the opportunity to work with industry professionals and gain practical experience in their chosen field.\\n\\nThe conservatorium also offers a range of academic and extra-curricular programs that prepare students for careers in the music industry. For example, the Bachelor of Music (Performance) program includes specialized pathways in instrumental/vocal performance, composition, and musicology, while the Artist-In-Residence program allows students to work with internationally renowned musicians.\\n\\nAdditionally, the conservatorium has a dedicated Career Development Office that provides students with assistance in finding employment, internships, and performance opportunities. The office also hosts regular industry events, such as masterclasses and networking sessions, to help students connect with industry professionals and gain a deeper understanding of the music industry in Australia.\\n\\nOverall, the location of the Sydney Conservatorium of Music and its strong industry connections provide students with a range of academic and professional opportunities that prepare them for successful careers in the music industry.</s>\\n<|user|>\\nCan you give me some examples of notable alumni from the Sydney Conservatorium of Music who have gone on to successful careers in the music industry?</s>\\n<|assistant|>\\nCertainly! The Sydney Conservatorium of Music has produced many successful alumni that have gone on to have impactful careers in the music industry. Here are a few notable examples:\\n\\n1. Brett Dean: Dean is an Australian composer and violist who studied at the Sydney Conservatorium of Music in the 1980s. He has since become one of Australia's most prominent living composers, and his works have been performed around the world.\\n\\n2. Nicole Car: Car is an Australian operatic soprano who studied at the Sydney Conservatorium of Music in the early 2000s. She has since become an internationally renowned singer and has performed in some of the world's most prestigious opera houses.\\n\\n3. Tim Minchin: Minchin is an Australian comedian, composer, and musician who studied piano and classical music at the Sydney Conservatorium of Music in the 1990s. He has since become a household name in Australia and around the world for his unique brand of musical comedy.\\n\\n4. Elena Kats-Chernin: Kats-Chernin is an Australian pianist and composer who studied at the Sydney Conservatorium of Music in the 1970s. She has since become one of Australia's most prominent composers, and her music has been performed by some of the world's leading orchestras.\\n\\n5. Jessica Wells: Wells is an Australian conductor and violinist who studied at the Sydney Conservatorium of Music in the 2000s. She has since become a sought-after conductor, working with a range of orchestras in Australia and around the world.\\n\\nThese are just a few examples of the many successful alumni who have studied at the Sydney Conservatorium of Music.</s>\\n<|user|>\\nCan you tell me more about the Artist-In-Residence program at the Sydney Conservatorium of Music? How does it work and what are the benefits for students?</s>\\n<|assistant|>\\nThe Artist-In-Residence program at the Sydney Conservatorium of Music is a unique opportunity for students to work with internationally renowned musicians, composers, and artists. The program brings in a diverse range of artists from around the world to collaborate with students and faculty for extended periods of time.\\n\\nThe program is designed to provide students with access to world-class artists and allow them to gain valuable experience working with professionals in their field. Typically, the artists-in-residence will give lectures, masterclasses, and workshops, perform with students or faculty members, and collaborate on new works or projects.\\n\\nThe program benefits students in several ways. Firstly, it provides them with exposure to different styles of music and different approaches to performance and composition. This exposure can help to broaden their musical horizons and inspire them to explore new genres or techniques.\\n\\nSecondly, working with professional artists can provide students with valuable learning opportunities. They can gain insights into the creative process and learn from the experiences of professionals who have had successful careers in the music industry.\\n\\nFinally, the program can help to build valuable connections and networks for students. By working with visiting artists, students have the opportunity to establish relationships and build networks that may help them in their future careers.\\n\\nOverall, the Artist-In-Residence program at the Sydney Conservatorium of Music is a valuable opportunity for students to work with world-class artists and gain valuable experience that can help them in their future careers.</s>\\n<|user|>\\nAre there any opportunities for students at the Sydney Conservatorium of Music to perform or showcase their talent outside of the campus and in front of a live audience?</s>\\n<|assistant|>\\nYes, there are many opportunities for students at the Sydney Conservatorium of Music to perform or showcase their talent outside of the campus. The conservatorium has strong industry connections throughout Australia, and regularly hosts events and performances that allow students to gain real-world experience and exposure.\\n\\nOne example is the Sydney Conservatorium of Music Symphony Orchestra, which performs regularly at venues including the Sydney Opera House and the City Recital Hall. Students who participate in the orchestra have the opportunity to perform in front of larger audiences and gain experience working with professional conductors and musicians.\\n\\nAdditionally, the conservatorium hosts numerous concerts and recitals throughout the year that feature solo performances and small ensembles. These performances take place both on and off-campus and provide students with the opportunity to showcase their skills in front of a live audience.\\n\\nThe conservatorium also participates in a range of external events and festivals, including the Sydney Festival and the Vivid Sydney Festival of Light, Music, and Ideas. These events provide students with exposure to a wider audience and the opportunity to perform alongside other professional musicians and artists.\\n\\nOverall, the Sydney Conservatorium of Music provides students with many opportunities to perform and showcase their talent outside of the campus and gain experience working in real-world performance contexts.</s>\\n<|user|>\\nCan you tell me more about the specific partnerships the Sydney Conservatorium of Music has with professional music organizations, and how those partnerships benefit the students?</s>\\n<|assistant|>\\nYes, the Sydney Conservatorium of Music has established partnerships with several professional music organizations that provide a range of opportunities for students to gain practical experience and connect with industry professionals. Here are a few examples:\\n\\n1. Australian Chamber Orchestra (ACO): The Sydney Conservatorium of Music has a longstanding partnership with the ACO, which allows students to participate in masterclasses and workshops with ACO musicians. The partnership also includes the ACO Academy, which provides a range of professional development opportunities for young musicians.\\n\\n2. Opera Australia: Students at the Sydney Conservatorium of Music can participate in Opera Australia's Youth Opera Program, which includes workshops and performance opportunities with the company's professional singers and musicians. The partnership also includes the Opera Australia Scholarship, which provides financial support and mentorship to young singers.\\n\\n3. Melbourne Symphony Orchestra (MSO): The Sydney Conservatorium of Music has a partnership with the MSO, which provides students with access to professional development opportunities such as masterclasses and workshops. The partnership also includes the MSO Fellowship Program, which provides young conductors with mentorship and experience working with a professional orchestra.\\n\\n4. Sydney Symphony Orchestra (SSO): The Sydney Conservatorium of Music has a close relationship with the SSO, with many of the orchestra's members also serving as faculty members at the conservatorium. Students have many opportunities to collaborate with the SSO, including performance opportunities and workshops with orchestra members.\\n\\nThese partnerships benefit students in several ways. Firstly, they provide access to professional musicians and industry leaders who can offer insight into the music industry and provide guidance and support for young musicians. Secondly, they provide practical experience and opportunities for students to perform with professional musicians and gain exposure to real-world performance contexts. Finally, they help to build connections and networks within the industry, which can be valuable for students as they embark on their own careers in music.</s>\\n<|user|>\\nWow, it's great to hear that the Sydney Conservatorium of Music provides so many opportunities for students to connect with professionals in the music industry. Do they also offer any internships or job placements for graduates?</s>\\n<|assistant|>\\nYes, the Sydney Conservatorium of Music offers a range of internship and job placement opportunities for its graduates. The conservatorium has a dedicated Career Development Office that provides resources and support to students and alumni as they transition into the music industry.\\n\\nThe Career Development Office works with a range of industry partners to provide internships and job placements for graduates. These industry partners include major orchestras, opera companies, festivals, and record labels. Internships and job placements can vary widely, depending on the needs of the industry partner and the skills and interests of the graduate.\\n\\nThe conservatorium also hosts regular workshops and events on topics related to career development, such as resume writing, networking, and professional branding. These events are designed to provide students and alumni with practical skills and advice to help them succeed in the music industry.\\n\\nAdditionally, the conservatorium has a strong alumni network, with graduates working in a wide range of musical fields around the world. This network can be a valuable resource for students and alumni as they navigate their careers and seek out new opportunities.\\n\\nOverall, the Sydney Conservatorium of Music is committed to supporting students and alumni as they transition into the music industry, and offers a range of internship and job placement opportunities to help them achieve success.</s>\\n\""
      ]
     },
     "execution_count": 30,
     "metadata": {},
     "output_type": "execute_result"
    }
   ],
   "source": [
    "train['text'][0]"
   ]
  },
  {
   "cell_type": "code",
   "execution_count": 26,
   "metadata": {},
   "outputs": [
    {
     "name": "stdout",
     "output_type": "stream",
     "text": [
      "[\"<|system|>\\n</s>\\n<|user|>\\nWrite a compelling mystery story set in a vineyard, where a seasoned detective investigates a murder with twists and turns that will keep the reader engaged until the very end. Add complex characters, multiple suspects, and red herrings to create suspense and challenge the detective's deductive reasoning. Use vivid descriptive language to paint a picture of the vineyard setting, its wine-making process, and the people who live and work there. Make sure to reveal clues and motives gradually, and create a satisfying resolution that ties up all loose ends.</s>\\n<|assistant|>\\nDetective Jameson had been called to the vineyard on the outskirts of town to investigate a murder. The sun was setting, casting long shadows over the grape vines, and the air was heavy with the sweet scent of fermented grapes. The body was lying in the middle of the vineyard, surrounded by broken grape vines and a scattering of grapes. The victim's throat had been slashed, and there were bruises around the neck.\\n\\nAs Jameson began his investigation, he met the owner of the vineyard, a tall, thin man with a stern face. The owner didn't seem overly concerned about the murder on his property and was reluctant to answer any questions that Jameson had. He was also dismissive of the other workers, including the winemaker, who appeared visibly distraught.\\n\\nJameson soon discovered that the victim, a young woman named Sophia, had been working at the vineyard for the past year. Sophia was well-liked by the other workers, who had nothing but positive things to say about her. She was hardworking and always had a smile on her face. As Jameson dug deeper, he found that Sophia had possibly been having an affair with the owner, who was married. The owner denied any involvement, but Jameson was suspicious, especially when he found a note in Sophia's pocket that hinted at a secret relationship.\\n\\nFurther investigation uncovered more potential suspects—a worker who had been fired earlier that day, a jealous ex-boyfriend, and even a rival vineyard owner. With so many suspects, Jameson had to be careful, and he wasn't sure who he could trust. The winemaker, who had initially seemed distraught, also didn't seem to be telling Jameson everything he knew.\\n\\nAs Jameson pieced together the clues, he found that the murder had been premeditated. The killer had used the grape vines to hide their tracks, and the bruises on Sophia's neck indicated she had been strangled before her throat was slashed. Jameson knew he was getting closer to solving the case, and he sensed the killer was getting nervous.\\n\\nThe final twist came when the winemaker confessed to the murder. He had been in love with Sophia and had become jealous when he discovered she had been seeing the owner. He had planned the murder carefully, knowing that Sophia had been working alone that day. Jameson arrested the winemaker, relieved that he had solved the case and that justice would be served.\\n\\nAs the sun rose over the vineyard the next day, the workers returned to their routine of harvesting grapes, but Jameson knew that the tranquility of the vineyard had been shattered by a brutal murder.</s>\\n<|user|>\\nWow, that was a great mystery story! I really enjoyed the twists and turns, and the characters were interesting. Can you give me more detailed descriptions of the vineyard setting and the wine-making process? I want to be fully immersed in the story.</s>\\n<|assistant|>\\nOf course! As Detective Jameson arrived at the vineyard, he was struck by the natural beauty of the surroundings. The rolling hills were covered in rows upon rows of grapevines, their leaves rustling gently in the breeze. The vineyard was divided into different sections, each one dedicated to a specific type of grape. Jameson could see the giant barrels inside the winery, where the grapes would be crushed, fermented, and aged until they became a fine wine.\\n\\nThe grapes themselves were a sight to behold—some were deep burgundy, others were a bright green, and some were shades in between. As Jameson walked through the vineyard, he could smell the sweet aroma of grapes hanging heavily from the vines. He saw workers picking the grapes carefully, placing them in baskets and moving them to the winery for processing. The winery itself was a sprawling building with large metal tanks, wooden barrels, and machinery scattered throughout the space.\\n\\nJameson had always been fascinated by the art of winemaking. He knew it was a delicate process that required patience, knowledge, and skill. It was a precise balance of science and art—the grapes had to be harvested at the right time, crushed in the right way, and aged properly to produce the perfect wine. As he learned more about the wine-making process, Jameson became convinced that the careful attention to detail could uncover critical clues to solve the murder mystery.\\n\\nThroughout his investigation, Jameson noticed other aspects of the vineyard that added to its charm—the sprawling estate with its mustard yellow stucco walls, the vintage bicycles parked near the winery, the creaky wooden tasting room, and the buzzing of bees that drifted through the vineyards.\\n\\nAll these sights and smells contributed to the peaceful setting of the vineyard, making it even more shocking when Jameson stumbled upon a gruesome murder. The picturesque vineyard was now a crime scene, and Jameson knew that he had his work cut out for him to catch the killer.</s>\\n<|user|>\\nThat was an amazing description! It really transported me into the vineyard with Detective Jameson. Can you tell me more about the different types of grapes that were grown in the vineyard? I'm curious to know which ones were used to create the murder victim's wine.</s>\\n<|assistant|>\\nYes, the vineyard grew various types of grapes, each with its unique flavor profile and characteristics. The vineyard had vines of red grapes, such as Pinot Noir, Cabernet Franc, Cabernet Sauvignon, and Merlot. These grapes added depth, structure, and complexity to the wine, and were often blended to create different red wine blends.\\n\\nThe vineyard also had vines of white grapes, such as Chardonnay, Sauvignon Blanc, and Viognier. These grapes were used to produce white wine, which was light, refreshing, and crisp. Viognier, in particular, was known to be used to create a small batch, highly sought-after white wine from the vineyard.\\n\\nSophia, the victim, was known to have been a specialist in selecting the perfect blend of grapes for each bottle of wine. She had a unique talent for detecting the subtle flavors and nuances of each grape and was often tasked with creating the vineyard's signature wines.\\n\\nWhen Detective Jameson examined the grape vines around the scene of the crime, he noticed that some of the vines had been uprooted and damaged. He also saw that the grapes in the area were Merlot grapes, which were used to create the vineyard's award-winning red wine.\\n\\nAs Jameson dove deeper into the investigation, he uncovered a plot to sabotage the Merlot grapes. Someone had deliberately damaged the vines, destroying the grapes' flavor and texture, and ultimately ruining the wine. Sophia had been investigating the sabotage, and that could have led to her murder.\\n\\nDetective Jameson quickly realized that the Merlot grapes were a crucial clue in the murder investigation. He interviewed every worker present at the vineyard, looked through the vineyard's production logs, and analyzed samples of each grape variety to identify potential suspects. The hunt for the killer led Jameson on a roller-coaster ride of clues and red herrings, and ultimately to the arrest of the winemaker.</s>\\n\"]\n"
     ]
    }
   ],
   "source": [
    "print(split_data(test_text))"
   ]
  },
  {
   "cell_type": "code",
   "execution_count": null,
   "metadata": {},
   "outputs": [],
   "source": []
  }
 ],
 "metadata": {
  "kernelspec": {
   "display_name": "Python 3 (ipykernel)",
   "language": "python",
   "name": "python3"
  },
  "language_info": {
   "codemirror_mode": {
    "name": "ipython",
    "version": 3
   },
   "file_extension": ".py",
   "mimetype": "text/x-python",
   "name": "python",
   "nbconvert_exporter": "python",
   "pygments_lexer": "ipython3",
   "version": "3.10.14"
  }
 },
 "nbformat": 4,
 "nbformat_minor": 2
}
